{
 "cells": [
  {
   "cell_type": "code",
   "execution_count": 1,
   "metadata": {},
   "outputs": [],
   "source": [
    "#-*- coding=utf-8 -*-\n",
    "\"\"\"\n",
    "spark_LR\n",
    "Author: shi zheyang\n",
    "Date:2020/5/27\n",
    "Modified Date:2020/6/8 - 1.把LR放进pipeline 2.把离散化后的数值特征也做了one-hot 3.增加logging模块\n",
    "\"\"\"\n",
    "from pyspark.sql import SparkSession\n",
    "from pyspark import SparkContext\n",
    "from operator import itemgetter\n",
    "import numpy as np\n",
    "import logging\n",
    "import sys"
   ]
  },
  {
   "cell_type": "code",
   "execution_count": 2,
   "metadata": {},
   "outputs": [
    {
     "name": "stdout",
     "output_type": "stream",
     "text": [
      "+-------+\n",
      "|user_id|\n",
      "+-------+\n",
      "|2938311|\n",
      "|2532334|\n",
      "|2401172|\n",
      "|1650566|\n",
      "|890817 |\n",
      "|2671862|\n",
      "|1334943|\n",
      "|2934982|\n",
      "|2835315|\n",
      "|1828991|\n",
      "|394443 |\n",
      "|253831 |\n",
      "|2871984|\n",
      "|2530025|\n",
      "|2827381|\n",
      "|1505191|\n",
      "|2853934|\n",
      "|1314320|\n",
      "|2208746|\n",
      "|null   |\n",
      "+-------+\n",
      "only showing top 20 rows\n",
      "\n",
      "root\n",
      " |-- ad_app_id: string (nullable = true)\n",
      " |-- ad_id: string (nullable = true)\n",
      " |-- ad_name: string (nullable = true)\n",
      " |-- ad_position: string (nullable = true)\n",
      " |-- ad_position_name: string (nullable = true)\n",
      " |-- ad_type: string (nullable = true)\n",
      " |-- app_version: string (nullable = true)\n",
      " |-- carrier: string (nullable = true)\n",
      " |-- channel: string (nullable = true)\n",
      " |-- city: string (nullable = true)\n",
      " |-- country: string (nullable = true)\n",
      " |-- device_id: string (nullable = true)\n",
      " |-- device_model: string (nullable = true)\n",
      " |-- event: string (nullable = true)\n",
      " |-- ip: string (nullable = true)\n",
      " |-- network_type: string (nullable = true)\n",
      " |-- os: string (nullable = true)\n",
      " |-- proc_date: string (nullable = true)\n",
      " |-- proc_time: long (nullable = true)\n",
      " |-- province: string (nullable = true)\n",
      " |-- screen_height: long (nullable = true)\n",
      " |-- screen_width: long (nullable = true)\n",
      " |-- source: string (nullable = true)\n",
      " |-- sys_lang: string (nullable = true)\n",
      " |-- sys_version: string (nullable = true)\n",
      " |-- user_id: long (nullable = true)\n",
      "\n"
     ]
    },
    {
     "data": {
      "text/plain": [
       "[('ad_app_id', 'string'),\n",
       " ('ad_id', 'string'),\n",
       " ('ad_name', 'string'),\n",
       " ('ad_position', 'string'),\n",
       " ('ad_position_name', 'string'),\n",
       " ('ad_type', 'string'),\n",
       " ('app_version', 'string'),\n",
       " ('carrier', 'string'),\n",
       " ('channel', 'string'),\n",
       " ('city', 'string'),\n",
       " ('country', 'string'),\n",
       " ('device_id', 'string'),\n",
       " ('device_model', 'string'),\n",
       " ('event', 'string'),\n",
       " ('ip', 'string'),\n",
       " ('network_type', 'string'),\n",
       " ('os', 'string'),\n",
       " ('proc_date', 'string'),\n",
       " ('proc_time', 'bigint'),\n",
       " ('province', 'string'),\n",
       " ('screen_height', 'bigint'),\n",
       " ('screen_width', 'bigint'),\n",
       " ('source', 'string'),\n",
       " ('sys_lang', 'string'),\n",
       " ('sys_version', 'string'),\n",
       " ('user_id', 'bigint')]"
      ]
     },
     "execution_count": 2,
     "metadata": {},
     "output_type": "execute_result"
    }
   ],
   "source": [
    "# 读取json文件\n",
    "# SparkContext常用在RDD切入点，SparkSession是spark SQL的切入点\n",
    "import time\n",
    "start = time.time()\n",
    "spark = SparkSession.builder.appName(\"MoviesLens_ItemCF\").\\\n",
    "config('spark.driver.memory', '12g').getOrCreate() # config('spark.executor.memory','.12g').\n",
    "ad_show_click = spark.read.json(\"../data/ctr_data/ad-behavior-20200318.json\")\n",
    "ad_show_click.select(\"user_id\").show(truncate=False)\n",
    "ad_show_click.printSchema()\n",
    "ad_show_click.dtypes"
   ]
  },
  {
   "cell_type": "code",
   "execution_count": 3,
   "metadata": {},
   "outputs": [
    {
     "name": "stdout",
     "output_type": "stream",
     "text": [
      "+------------------------------------+\n",
      "|approx_count_distinct(screen_height)|\n",
      "+------------------------------------+\n",
      "|                                 524|\n",
      "+------------------------------------+\n",
      "\n",
      "+------------------+\n",
      "|avg(screen_height)|\n",
      "+------------------+\n",
      "|        1426.91661|\n",
      "+------------------+\n",
      "\n"
     ]
    }
   ],
   "source": [
    "from pyspark.sql.functions import *\n",
    "# 计算不同的个数\n",
    "ad_show_click.agg(approx_count_distinct(ad_show_click.screen_height)).show()\n",
    "ad_show_click.select(mean(ad_show_click.screen_height)).show()"
   ]
  },
  {
   "cell_type": "code",
   "execution_count": 4,
   "metadata": {},
   "outputs": [
    {
     "name": "stdout",
     "output_type": "stream",
     "text": [
      "总条数, 总列数 99982 26\n",
      "userID个数 47002\n",
      "deviceID个数 50476\n",
      "Country个数 99\n",
      "广告位个数 34\n",
      "来源 1\n"
     ]
    }
   ],
   "source": [
    "# 基本的统计\n",
    "# 总共有多少条记录\n",
    "ad_show_click = ad_show_click.distinct()\n",
    "print(\"总条数, 总列数\",ad_show_click.count(), len(ad_show_click.columns))\n",
    "# 统计有多少个userID\n",
    "print(\"userID个数\",ad_show_click.select(\"user_id\").distinct().count())\n",
    "# 统计有多少个deviceID\n",
    "print(\"deviceID个数\",ad_show_click.select(\"device_id\").distinct().count())\n",
    "# 统计有多少个country\n",
    "print(\"Country个数\",ad_show_click.select(\"country\").distinct().count())\n",
    "# 统计有多少个ad_position\n",
    "print(\"广告位个数\",ad_show_click.select(\"ad_position\").distinct().count())\n",
    "# 统计有多少个source\n",
    "print(\"来源\",ad_show_click.select(\"source\").distinct().count())"
   ]
  },
  {
   "cell_type": "code",
   "execution_count": 5,
   "metadata": {},
   "outputs": [
    {
     "name": "stdout",
     "output_type": "stream",
     "text": [
      "root\n",
      " |-- ad_app_id: string (nullable = true)\n",
      " |-- ad_id: string (nullable = true)\n",
      " |-- ad_position: string (nullable = true)\n",
      " |-- ad_type: string (nullable = true)\n",
      " |-- app_version: string (nullable = true)\n",
      " |-- carrier: string (nullable = true)\n",
      " |-- channel: string (nullable = true)\n",
      " |-- country: string (nullable = true)\n",
      " |-- device_id: string (nullable = true)\n",
      " |-- device_model: string (nullable = true)\n",
      " |-- event: string (nullable = true)\n",
      " |-- network_type: string (nullable = true)\n",
      " |-- proc_time: long (nullable = true)\n",
      " |-- province: string (nullable = true)\n",
      " |-- screen_height: long (nullable = true)\n",
      " |-- screen_width: long (nullable = true)\n",
      " |-- sys_lang: string (nullable = true)\n",
      " |-- sys_version: string (nullable = true)\n",
      "\n"
     ]
    }
   ],
   "source": [
    "# 对数据先做一个join操作，得出标签\n",
    "columns_to_drop = ['user_id', 'ad_position_name', 'city', 'proc_date', 'source', 'ad_name', 'os', \"ip\"]\n",
    "ad_show_click = ad_show_click.drop(*columns_to_drop)\n",
    "ad_show_click.printSchema()"
   ]
  },
  {
   "cell_type": "code",
   "execution_count": 6,
   "metadata": {},
   "outputs": [
    {
     "name": "stdout",
     "output_type": "stream",
     "text": [
      "6455\n",
      "root\n",
      " |-- ad_app_id: string (nullable = true)\n",
      " |-- ad_id: string (nullable = true)\n",
      " |-- ad_position: string (nullable = true)\n",
      " |-- ad_type: string (nullable = true)\n",
      " |-- app_version: string (nullable = true)\n",
      " |-- carrier: string (nullable = true)\n",
      " |-- channel: string (nullable = true)\n",
      " |-- country: string (nullable = true)\n",
      " |-- device_id: string (nullable = true)\n",
      " |-- device_model: string (nullable = true)\n",
      " |-- event: string (nullable = true)\n",
      " |-- network_type: string (nullable = true)\n",
      " |-- proc_time: long (nullable = true)\n",
      " |-- province: string (nullable = true)\n",
      " |-- screen_height: long (nullable = true)\n",
      " |-- screen_width: long (nullable = true)\n",
      " |-- sys_lang: string (nullable = true)\n",
      " |-- sys_version: string (nullable = true)\n",
      "\n"
     ]
    }
   ],
   "source": [
    "ad_click = ad_show_click.where(col('event')=='adClick')\n",
    "print(ad_click.count())\n",
    "ad_click.printSchema()"
   ]
  },
  {
   "cell_type": "code",
   "execution_count": 7,
   "metadata": {},
   "outputs": [
    {
     "name": "stdout",
     "output_type": "stream",
     "text": [
      "87074\n"
     ]
    }
   ],
   "source": [
    "# 使用left_anti进行筛选展示的样本\n",
    "ad_show = ad_show_click.join(ad_click, (ad_show_click.device_id==ad_click.device_id)&(ad_show_click.ad_id==ad_click.ad_id)&\\\n",
    "                             (ad_show_click.ad_position==ad_click.ad_position),\"left_anti\")\n",
    "print(ad_show.count())"
   ]
  },
  {
   "cell_type": "code",
   "execution_count": 8,
   "metadata": {},
   "outputs": [
    {
     "name": "stdout",
     "output_type": "stream",
     "text": [
      "+---------+-----+-----------+-------+-----------+-------+-------+-------+--------------------+--------------------+-----+------------+-------------+--------------------+-------------+------------+--------+-----------+\n",
      "|ad_app_id|ad_id|ad_position|ad_type|app_version|carrier|channel|country|           device_id|        device_model|event|network_type|    proc_time|            province|screen_height|screen_width|sys_lang|sys_version|\n",
      "+---------+-----+-----------+-------+-----------+-------+-------+-------+--------------------+--------------------+-----+------------+-------------+--------------------+-------------+------------+--------+-----------+\n",
      "|    10060|10113|  100600027|      3|   10000603|       |   ggps|     ES|8ca9fa3babea61ad6...|     Hisense T5 Plus|    1|      MOBILE|1584144081942|             Galicia|         1280|         720|      es|        7.0|\n",
      "|    10060|10059|  100600001|      3|   10000707|       |   ggps|     ID|28a31a66a7ca68a29...|           vivo 1817|    1|      MOBILE|1584144145011|             unknown|         1436|         720|      in|      8.1.0|\n",
      "|    10060|10064|  100600002|      2|   10000603|       |   ggps|     AR|a0a91a69af8a86a19...|         lge LG-H320|    1|      MOBILE|1584144339522|   Buenos Aires F.D.|          786|         480|      es|      5.0.1|\n",
      "|    10060|10064|  100600002|      2|   10000707|       |   ggps|     US|a0acca2ba1dab3af0...|    samsung SM-G955U|    1|        WIFI|1584144347000|      North Carolina|         2094|        1080|      en|          9|\n",
      "|    10060|10056|  100600004|      3|   10000707|       |   ggps|     BO|3caf7aa4a2daf8a49...|    samsung SM-G610M|    1|         VPN|1584144420836|Departamento de L...|         1920|        1080|      es|      8.1.0|\n",
      "|    10060|10056|  100600004|      3|   10000707|       |   ggps|     MY|e0a13ab5a4eac2ae7...|           vivo 1812|    1|      MOBILE|1584144451443|             unknown|         1436|         720|      ms|      8.1.0|\n",
      "|    10060|10056|  100600004|      3|   10000603|       |   ggps|     VN|c0a85a4cab1a26adc...|mobiistar LAI ZORO 3|    1|      MOBILE|1584144460924|      Tinh Khanh Hoa|          782|         480|      vi|        6.0|\n",
      "|    10060|10056|  100600004|      3|   10000707|       |   ggps|     FR|d0a7faa0a4aa78aab...|   samsung SM-J610FN|    1|      MOBILE|1584144493366|             unknown|         1396|         720|      fr|          9|\n",
      "|    10060|10064|  100600002|      2|   10000707|       |   ggps|     BR|7caf3a1ba9fafead6...|         lge LM-X210|    1|        WIFI|1584144672680|               Goias|         1196|         720|      pt|      7.1.2|\n",
      "|    10060|10057|  100600005|      3|   10000707|       |   ggps|     BR|98a39a8eac5a4aa31...|    samsung SM-J105B|    1|        WIFI|1584144920063|             Paraíba|          800|         480|      pt|      5.1.1|\n",
      "|    10060|10064|  100600002|      2|   10000603|       |   ggps|     BR|98ab8abaa35ae8a04...|       lge LM-X410.F|    1|        WIFI|1584144987009|           Sao Paulo|         1193|         720|      pt|      7.1.2|\n",
      "|    10060|10060|  100600008|      3|   10000704|       |   ggps|     VN|c0a2ea25aeba61ac5...|        OPPO CPH1803|    1|        WIFI|1584145028087|               Hanoi|         1424|         720|      vi|      8.1.0|\n",
      "|    10060|10064|  100600002|      2|   10000603|       |   ggps|     MX|b8a94a36a63a9da55...|      HUAWEI DRA-LX3|    1|      MOBILE|1584145092142|              Puebla|         1356|         720|      es|      8.1.0|\n",
      "|    10060|10096|  100601224|      2|   10000704|       |   ggps|     VN|48a83ab4a4ea4aa8b...|        OPPO CPH1911|    1|        WIFI|1584145096604|             unknown|         2340|        1080|      vi|          9|\n",
      "|    10060|10056|  100600004|      3|   10000707|       |   ggps|     TH|44ad3aada81ac0ad8...|         WIKO W-K200|    1|        WIFI|1584145318389|Changwat Nakhon R...|          888|         480|      th|      8.1.0|\n",
      "|    10060|10059|  100600001|      3|   10000707|       |   ggps|     MX|dcabfae9aeca2ba5d...| motorola Moto E (4)|    1|        WIFI|1584145353825|    Estado de Mexico|         1184|         720|      es|      7.1.1|\n",
      "|    10060|10057|  100600005|      3|   10000707|       |   ggps|     MX|18a21a95a5daf9a75...|    samsung SM-J320M|    1|        WIFI|1584145366972|         Mexico City|         1280|         720|      es|      5.1.1|\n",
      "|    10062|10071|  100620001|      3|   10000053|       |       |     BR|a8a16ad0aafab0ae1...|    samsung SM-J810M|    1|        WIFI|1584145687095|      Espirito Santo|         1396|         720|      pt|          9|\n",
      "|    10060|10064|  100600002|      2|   10000703|       |   ggps|     CO|f4a71a90a4dab1a57...|    samsung SM-J250M|    1|        WIFI|1584145709325|           Antioquia|          960|         540|      es|      7.1.1|\n",
      "|    10060|10061|  100600007|      3|   10000705|       |   ggps|     ID|20a5eaf7a11ab3a22...|   samsung SM-J510FN|    1|        WIFI|1584145839295|      South Sulawesi|         1280|         720|      in|      6.0.1|\n",
      "+---------+-----+-----------+-------+-----------+-------+-------+-------+--------------------+--------------------+-----+------------+-------------+--------------------+-------------+------------+--------+-----------+\n",
      "only showing top 20 rows\n",
      "\n",
      "+---------+-----+-----------+-------+-----------+-------+-------+-------+--------------------+--------------------+-----+------------+-------------+------------------+-------------+------------+--------+-----------+\n",
      "|ad_app_id|ad_id|ad_position|ad_type|app_version|carrier|channel|country|           device_id|        device_model|event|network_type|    proc_time|          province|screen_height|screen_width|sys_lang|sys_version|\n",
      "+---------+-----+-----------+-------+-----------+-------+-------+-------+--------------------+--------------------+-----+------------+-------------+------------------+-------------+------------+--------+-----------+\n",
      "|    10060|10064|  100600002|      2|   10000709|       |   ggps|     MX|a8a51a5babea93ad5...|    samsung SM-J810M|    0|        WIFI|1584144002742|  Estado de Mexico|         1454|         720|      es|          9|\n",
      "|    10060|10065|  100600022|      2|   10000707|       |   ggps|     AR|04ad3a95ae1ae7aee...|motorola moto e(6...|    0|        WIFI|1584144004472|      Buenos Aires|         1418|         720|      es|          9|\n",
      "|    10060|10064|  100600002|      2|   10000706|       |   ggps|     ID|d8acea3aa5aa8fa67...|     xiaomi Redmi 6A|    0|      MOBILE|1584144005971|           Jakarta|         1344|         720|      in|          9|\n",
      "|    10060|10064|  100600002|      2|   10000603|       |   ggps|     BR|64ac2adea19a3ba4a...|         lge LM-X210|    0|        WIFI|1584144030570|    Espirito Santo|         1196|         720|      pt|      7.1.2|\n",
      "|    10062|10071|  100620001|      3|   10000053|       |       |     MX|00afaa21a19ae2aa3...|    samsung SM-A307G|    0|        WIFI|1584144031586|       Mexico City|         1423|         720|      es|          9|\n",
      "|    10060|10064|  100600002|      2|   10000707|       |   ggps|     VN|bca54a51a0ea7ca48...|    samsung SM-J730G|    0|      MOBILE|1584144034584|             Hanoi|         1920|        1080|      vi|          9|\n",
      "|    10060|10064|  100600002|      2|   10000603|       |   ggps|     VN|00a12a36a56a3dae6...|    samsung SM-J810Y|    0|        WIFI|1584144066746|             Hanoi|         1372|         720|      vi|          9|\n",
      "|    10060|10063|  100600003|      2|   10000707|       |   ggps|     CO|d4a63ac6af7ae7a40...|motorola Moto E (...|    0|        WIFI|1584144071131|         Antioquia|         1198|         720|      es|      7.1.1|\n",
      "|    10060|10064|  100600002|      2|   10000707|       |   ggps|     CO|8cae5ac0a20a70af1...|    samsung SM-A305G|    0|        WIFI|1584144075736|       Bogota D.C.|         2131|        1080|      es|          9|\n",
      "|    10060|10064|  100600002|      2|   10000707|       |   ggps|     BR|88ab4aa6a8ba45ae5...| motorola Moto E (4)|    0|        WIFI|1584144094554|Mato Grosso do Sul|         1172|         720|      pt|      7.1.1|\n",
      "|    10062|10071|  100620001|      3|   10000053|       |       |     BR|c8ac7a50aa7a29a90...|  motorola one macro|    0|      MOBILE|1584144103839|  Federal District|         1381|         720|      pt|          9|\n",
      "|    10060|10063|  100600003|      2|   10000503|       |   ggps|     ID|20a5eaf7ab1aaaabe...|    samsung SM-G532G|    0|      MOBILE|1584144115728|         East Java|          960|         540|      in|      6.0.1|\n",
      "|    10060|10064|  100600002|      2|   10000603|       |   ggps|     BR|00a16a98a1ca6da80...|           TCL 8050E|    0|        WIFI|1584144119463|            Parana|         1280|         720|      pt|        5.1|\n",
      "|    10060|10064|  100600002|      2|   10000703|       |   ggps|     BR|38a80adfaa6a97aef...|motorola Moto G (...|    0|        WIFI|1584144131505|         Sao Paulo|         1798|        1080|      pt|      8.1.0|\n",
      "|    10062|10071|  100620001|      3|   10000053|       |       |     MX|90a73a5aaf9aaca30...|motorola moto e(6...|    0|      MOBILE|1584144136430|       Mexico City|         1418|         720|      es|          9|\n",
      "|    10060|10063|  100600003|      2|   10000707|       |   ggps|     MX|50a04ab8a71a47ac3...|      HUAWEI TRT-L53|    0|      MOBILE|1584144140491|            Sonora|         1208|         720|      es|        7.0|\n",
      "|    10060|10064|  100600002|      2|   10000706|       |   ggps|     JP|a8ab2adaa46a0dab1...|        DOCOMO F-01K|    0|      MOBILE|1584144140746|             Tokyo|         1776|        1080|      ja|          9|\n",
      "|    10060|10066|  100600023|      2|   10000707|       |   ggps|     MX|0cacba85aa7a8ba5f...|    motorola moto e5|    0|        WIFI|1584144152058|       Mexico City|         1344|         720|      es|      8.0.0|\n",
      "|    10060|10063|  100600003|      2|   10000707|       |   ggps|     RU|14a36ac6a89a39afb...|        Lenovo X2-EU|    0|      MOBILE|1584144157061|Krasnoyarskiy Kray|         1920|        1080|      ru|        5.0|\n",
      "|    10060|10063|  100600003|      2|   10000707|       |   ggps|     CO|14a1fa78aa3a6aa4e...|    samsung SM-J700M|    0|        WIFI|1584144170628|         Antioquia|         1280|         720|      es|      6.0.1|\n",
      "+---------+-----+-----------+-------+-----------+-------+-------+-------+--------------------+--------------------+-----+------------+-------------+------------------+-------------+------------+--------+-----------+\n",
      "only showing top 20 rows\n",
      "\n"
     ]
    }
   ],
   "source": [
    "ad_click = ad_click.withColumn('event', lit(1))\n",
    "ad_show  = ad_show.withColumn('event', lit(0))\n",
    "ad_click.show()\n",
    "ad_show.show()"
   ]
  },
  {
   "cell_type": "code",
   "execution_count": 9,
   "metadata": {},
   "outputs": [
    {
     "name": "stdout",
     "output_type": "stream",
     "text": [
      "93529\n"
     ]
    }
   ],
   "source": [
    "concat_data = ad_click.union(ad_show)\n",
    "print(concat_data.count())"
   ]
  },
  {
   "cell_type": "code",
   "execution_count": 10,
   "metadata": {},
   "outputs": [
    {
     "name": "stdout",
     "output_type": "stream",
     "text": [
      "DataFrame[summary: string, ad_app_id: string, ad_id: string, ad_position: string, ad_type: string, app_version: string, carrier: string, channel: string, country: string, device_id: string, device_model: string, event: string, network_type: string, proc_time: string, province: string, screen_height: string, screen_width: string, sys_lang: string, sys_version: string]\n",
      "root\n",
      " |-- ad_app_id: string (nullable = true)\n",
      " |-- ad_id: string (nullable = true)\n",
      " |-- ad_position: string (nullable = true)\n",
      " |-- ad_type: string (nullable = true)\n",
      " |-- app_version: string (nullable = true)\n",
      " |-- carrier: string (nullable = true)\n",
      " |-- channel: string (nullable = true)\n",
      " |-- country: string (nullable = true)\n",
      " |-- device_id: string (nullable = true)\n",
      " |-- device_model: string (nullable = true)\n",
      " |-- event: integer (nullable = false)\n",
      " |-- network_type: string (nullable = true)\n",
      " |-- proc_time: long (nullable = true)\n",
      " |-- province: string (nullable = true)\n",
      " |-- screen_height: integer (nullable = true)\n",
      " |-- screen_width: integer (nullable = true)\n",
      " |-- sys_lang: string (nullable = true)\n",
      " |-- sys_version: string (nullable = true)\n",
      "\n"
     ]
    }
   ],
   "source": [
    "# 特征分布\n",
    "# 类别特征、数值类特征\n",
    "from pyspark.sql.types import DoubleType\n",
    "print(concat_data.describe())\n",
    "concat_data = concat_data.withColumn(\"screen_height\", concat_data[\"screen_height\"].cast('int'))\n",
    "concat_data = concat_data.withColumn(\"screen_width\", concat_data[\"screen_width\"].cast('int'))\n",
    "concat_data.printSchema()"
   ]
  },
  {
   "cell_type": "code",
   "execution_count": 11,
   "metadata": {},
   "outputs": [
    {
     "name": "stdout",
     "output_type": "stream",
     "text": [
      "+---------+-----+-----------+-------+-----------+-------+--------------------+--------------------+------------+--------+-----------+\n",
      "|ad_app_id|ad_id|ad_position|ad_type|app_version|country|           device_id|        device_model|network_type|sys_lang|sys_version|\n",
      "+---------+-----+-----------+-------+-----------+-------+--------------------+--------------------+------------+--------+-----------+\n",
      "|    10060|10113|  100600027|      3|   10000603|     ES|8ca9fa3babea61ad6...|     Hisense T5 Plus|      MOBILE|      es|        7.0|\n",
      "|    10060|10059|  100600001|      3|   10000707|     ID|28a31a66a7ca68a29...|           vivo 1817|      MOBILE|      in|      8.1.0|\n",
      "|    10060|10064|  100600002|      2|   10000603|     AR|a0a91a69af8a86a19...|         lge LG-H320|      MOBILE|      es|      5.0.1|\n",
      "|    10060|10064|  100600002|      2|   10000707|     US|a0acca2ba1dab3af0...|    samsung SM-G955U|        WIFI|      en|          9|\n",
      "|    10060|10056|  100600004|      3|   10000707|     BO|3caf7aa4a2daf8a49...|    samsung SM-G610M|         VPN|      es|      8.1.0|\n",
      "|    10060|10056|  100600004|      3|   10000707|     MY|e0a13ab5a4eac2ae7...|           vivo 1812|      MOBILE|      ms|      8.1.0|\n",
      "|    10060|10056|  100600004|      3|   10000603|     VN|c0a85a4cab1a26adc...|mobiistar LAI ZORO 3|      MOBILE|      vi|        6.0|\n",
      "|    10060|10056|  100600004|      3|   10000707|     FR|d0a7faa0a4aa78aab...|   samsung SM-J610FN|      MOBILE|      fr|          9|\n",
      "|    10060|10064|  100600002|      2|   10000707|     BR|7caf3a1ba9fafead6...|         lge LM-X210|        WIFI|      pt|      7.1.2|\n",
      "|    10060|10057|  100600005|      3|   10000707|     BR|98a39a8eac5a4aa31...|    samsung SM-J105B|        WIFI|      pt|      5.1.1|\n",
      "|    10060|10064|  100600002|      2|   10000603|     BR|98ab8abaa35ae8a04...|       lge LM-X410.F|        WIFI|      pt|      7.1.2|\n",
      "|    10060|10060|  100600008|      3|   10000704|     VN|c0a2ea25aeba61ac5...|        OPPO CPH1803|        WIFI|      vi|      8.1.0|\n",
      "|    10060|10064|  100600002|      2|   10000603|     MX|b8a94a36a63a9da55...|      HUAWEI DRA-LX3|      MOBILE|      es|      8.1.0|\n",
      "|    10060|10096|  100601224|      2|   10000704|     VN|48a83ab4a4ea4aa8b...|        OPPO CPH1911|        WIFI|      vi|          9|\n",
      "|    10060|10056|  100600004|      3|   10000707|     TH|44ad3aada81ac0ad8...|         WIKO W-K200|        WIFI|      th|      8.1.0|\n",
      "|    10060|10059|  100600001|      3|   10000707|     MX|dcabfae9aeca2ba5d...| motorola Moto E (4)|        WIFI|      es|      7.1.1|\n",
      "|    10060|10057|  100600005|      3|   10000707|     MX|18a21a95a5daf9a75...|    samsung SM-J320M|        WIFI|      es|      5.1.1|\n",
      "|    10062|10071|  100620001|      3|   10000053|     BR|a8a16ad0aafab0ae1...|    samsung SM-J810M|        WIFI|      pt|          9|\n",
      "|    10060|10064|  100600002|      2|   10000703|     CO|f4a71a90a4dab1a57...|    samsung SM-J250M|        WIFI|      es|      7.1.1|\n",
      "|    10060|10061|  100600007|      3|   10000705|     ID|20a5eaf7a11ab3a22...|   samsung SM-J510FN|        WIFI|      in|      6.0.1|\n",
      "+---------+-----+-----------+-------+-----------+-------+--------------------+--------------------+------------+--------+-----------+\n",
      "only showing top 20 rows\n",
      "\n",
      "+-------------+------------+\n",
      "|screen_height|screen_width|\n",
      "+-------------+------------+\n",
      "|         1280|         720|\n",
      "|         1436|         720|\n",
      "|          786|         480|\n",
      "|         2094|        1080|\n",
      "|         1920|        1080|\n",
      "|         1436|         720|\n",
      "|          782|         480|\n",
      "|         1396|         720|\n",
      "|         1196|         720|\n",
      "|          800|         480|\n",
      "|         1193|         720|\n",
      "|         1424|         720|\n",
      "|         1356|         720|\n",
      "|         2340|        1080|\n",
      "|          888|         480|\n",
      "|         1184|         720|\n",
      "|         1280|         720|\n",
      "|         1396|         720|\n",
      "|          960|         540|\n",
      "|         1280|         720|\n",
      "+-------------+------------+\n",
      "only showing top 20 rows\n",
      "\n"
     ]
    }
   ],
   "source": [
    "# Label 单独放\n",
    "label = concat_data.select(\"event\")\n",
    "# 类别特征\n",
    "category_feature_col = [\"ad_app_id\",\"ad_id\", \"ad_position\", \"ad_type\", \"app_version\",  \"country\", \"device_id\", \"device_model\",\\\n",
    "                   \"network_type\", \"sys_lang\", \"sys_version\"]\n",
    "category_feature = concat_data.select(*category_feature_col)\n",
    "concat_data = concat_data.na.replace('','NA')\n",
    "category_feature.show()\n",
    "# 数值型特征\n",
    "value_feature_col = [\"screen_height\", \"screen_width\"] # , \"proc_time\"\n",
    "value_feature = concat_data.select(*value_feature_col)\n",
    "value_feature.show()"
   ]
  },
  {
   "cell_type": "code",
   "execution_count": 12,
   "metadata": {},
   "outputs": [
    {
     "name": "stdout",
     "output_type": "stream",
     "text": [
      "Training Dataset Count: 65252\n",
      "Test Dataset Count: 28277\n"
     ]
    }
   ],
   "source": [
    "train, test = concat_data.randomSplit([0.7, 0.3], seed = 2018)\n",
    "print(\"Training Dataset Count: \" + str(train.count()))\n",
    "print(\"Test Dataset Count: \" + str(test.count()))"
   ]
  },
  {
   "cell_type": "code",
   "execution_count": 13,
   "metadata": {},
   "outputs": [
    {
     "name": "stdout",
     "output_type": "stream",
     "text": [
      "CPU times: user 118 ms, sys: 28.6 ms, total: 146 ms\n",
      "Wall time: 3min 46s\n"
     ]
    }
   ],
   "source": [
    "from pyspark.ml import Pipeline, PipelineModel\n",
    "from pyspark.ml.feature import OneHotEncoderEstimator, StringIndexer, MinMaxScaler, VectorAssembler, QuantileDiscretizer\n",
    "from pyspark.ml.classification import LogisticRegression\n",
    "# 进行特征转换\n",
    "stages = []\n",
    "# 类别特征进行stringindexer和onehot变换\n",
    "for column in category_feature_col:\n",
    "        stringindexer = StringIndexer(inputCol=column, outputCol=column+'index').setHandleInvalid('keep')\n",
    "        encoder = OneHotEncoderEstimator(inputCols=[stringindexer.getOutputCol()], outputCols=[column + 'classVec'])\n",
    "        stages += [stringindexer,encoder]\n",
    "# 离散化（这里可以也再来一次one-hot）\n",
    "for column in value_feature_col:\n",
    "    discretizer = QuantileDiscretizer(numBuckets=2, inputCol=column, outputCol=column+\"result\")\n",
    "    v_encoder = OneHotEncoderEstimator(inputCols=[discretizer.getOutputCol()], outputCols=[column + 'classVal'])\n",
    "    stages += [discretizer,v_encoder]\n",
    "\n",
    "# 把多个特征转成vector\n",
    "assemblerInputs = [c + \"classVec\" for c in category_feature_col] + [column+\"classVal\" for c in value_feature_col]\n",
    "assembler = VectorAssembler(inputCols=assemblerInputs, outputCol=\"features\")\n",
    "stages += [assembler]\n",
    "lr = LogisticRegression(featuresCol='features', labelCol='event', maxIter=30)\n",
    "stages += [lr]\n",
    "pipeline = Pipeline(stages=stages)\n",
    "%time model = pipeline.fit(train)\n",
    "# output = model.transform(train)\n",
    "# output.show()"
   ]
  },
  {
   "cell_type": "code",
   "execution_count": 14,
   "metadata": {},
   "outputs": [],
   "source": [
    "# 保存模型和加载模型\n",
    "model.write().overwrite().save(\"../model/pipeline_model\")\n",
    "loaded_model = PipelineModel.load(\"../model/pipeline_model\")"
   ]
  },
  {
   "cell_type": "code",
   "execution_count": 15,
   "metadata": {},
   "outputs": [],
   "source": [
    "# 获取logger实例，如果参数为空，则返回root logger\n",
    "logger = logging.getLogger(\"spark_LR\")\n",
    "# 指定logger输出格式\n",
    "formatter = logging.Formatter('%(asctime)s %(levelname)-8s: %(message)s')\n",
    "# 文件日志\n",
    "file_handler = logging.FileHandler(\"../log/spark_lr_log.txt\")\n",
    "file_handler.setFormatter(formatter)\n",
    "# 控制台日志\n",
    "console_handler = logging.StreamHandler(sys.stdout)\n",
    "console_handler.formatter = formatter \n",
    "# 为logger添加的日志处理器，可以自定义日志处理器让其输出到其他地方\n",
    "logger.addHandler(file_handler)\n",
    "logger.addHandler(console_handler)\n",
    "# 指定日志的最低级别，默认为WARN级别\n",
    "logger.setLevel(logging.INFO)"
   ]
  },
  {
   "cell_type": "code",
   "execution_count": 16,
   "metadata": {},
   "outputs": [
    {
     "data": {
      "image/png": "[encoded data removed]",
      "text/plain": [
       "<Figure size 432x288 with 1 Axes>"
      ]
     },
     "metadata": {
      "needs_background": "light"
     },
     "output_type": "display_data"
    },
    {
     "data": {
      "image/png": "[encoded data removed]",
      "text/plain": [
       "<Figure size 432x288 with 1 Axes>"
      ]
     },
     "metadata": {
      "needs_background": "light"
     },
     "output_type": "display_data"
    },
    {
     "name": "stdout",
     "output_type": "stream",
     "text": [
      "Training set areaUnderROC: 0.9993909601113756\n"
     ]
    },
    {
     "data": {
      "image/png": "[encoded data removed]",
      "text/plain": [
       "<Figure size 432x288 with 1 Axes>"
      ]
     },
     "metadata": {
      "needs_background": "light"
     },
     "output_type": "display_data"
    }
   ],
   "source": [
    "import matplotlib.pyplot as plt \n",
    "import numpy as np\n",
    "\n",
    "beta = np.sort(model.stages[-1].coefficients)\n",
    "\n",
    "plt.plot(beta)\n",
    "plt.ylabel('Beta Coefficients')\n",
    "plt.show()\n",
    "# 绘制图线\n",
    "trainingSummary = model.stages[-1].summary\n",
    "roc = trainingSummary.roc.toPandas()\n",
    "plt.plot(roc['FPR'], roc['TPR']) # 准确率，召回率\n",
    "plt.ylabel('False Positive Rate')\n",
    "plt.xlabel('True Positive Rate')\n",
    "plt.title('ROC Curve')\n",
    "plt.show()\n",
    "print('Training set areaUnderROC: ' + str(trainingSummary.areaUnderROC))\n",
    "pr = trainingSummary.pr.toPandas()\n",
    "plt.plot(pr['recall'],pr['precision'])\n",
    "plt.ylabel('Precision')\n",
    "plt.xlabel('Recall')\n",
    "plt.show()"
   ]
  },
  {
   "cell_type": "code",
   "execution_count": 17,
   "metadata": {},
   "outputs": [
    {
     "name": "stdout",
     "output_type": "stream",
     "text": [
      "+--------------------+-----+-----------+-----+--------------------+--------------------+--------------------+----------+\n",
      "|           device_id|ad_id|ad_position|label|            features|       rawPrediction|         probability|prediction|\n",
      "+--------------------+-----+-----------+-----+--------------------+--------------------+--------------------+----------+\n",
      "|fca42a03aeaab2a85...|10056|  100600004|    1|(44748,[0,7,40,70...|[-6.3679048779424...|[0.00171281141207...|       1.0|\n",
      "|3caf7aa4a2daf8a49...|10056|  100600004|    1|(44748,[0,7,40,70...|[-2.5669849164057...|[0.07129367759153...|       1.0|\n",
      "|98a39a8eac5a4aa31...|10057|  100600005|    1|(44748,[0,12,45,7...|[-0.6418852491265...|[0.34482050067505...|       1.0|\n",
      "|14a30ac6a59a42a70...|10063|  100600003|    1|(44748,[0,3,36,69...|[9.22454036263687...|[0.99990141968366...|       0.0|\n",
      "|98ab8abaa35ae8a04...|10064|  100600002|    1|(44748,[0,2,35,69...|[9.68014824791223...|[0.99993749167175...|       0.0|\n",
      "|7caf3a1ba9fafead6...|10064|  100600002|    1|(44748,[0,2,35,69...|[-9.2295002786838...|[9.80926246555484...|       1.0|\n",
      "|e4a12a1dab9adba86...|10064|  100600002|    1|(44748,[0,2,35,69...|[10.1128371891967...|[0.99995944606510...|       0.0|\n",
      "|48a60a5fa70a31afe...|10071|  100620001|    1|(44748,[1,4,37,70...|[-8.4388255433601...|[2.16257263557616...|       1.0|\n",
      "|6ca00a6babea39aeb...|10071|  100620001|    1|(44748,[1,4,37,70...|[7.82093772895242...|[0.99959891568612...|       0.0|\n",
      "|5ca51a81a5da4ea93...|10056|  100600004|    1|(44748,[0,7,40,70...|[-1.6907177620115...|[0.15568147075700...|       1.0|\n",
      "+--------------------+-----+-----------+-----+--------------------+--------------------+--------------------+----------+\n",
      "only showing top 10 rows\n",
      "\n",
      "+--------------------+-----+-----------+------------+\n",
      "|           device_id|ad_id|ad_position|      pvalue|\n",
      "+--------------------+-----+-----------+------------+\n",
      "|fca42a03aeaab2a85...|10056|  100600004|   0.9982872|\n",
      "|3caf7aa4a2daf8a49...|10056|  100600004|  0.92870635|\n",
      "|98a39a8eac5a4aa31...|10057|  100600005|   0.6551795|\n",
      "|14a30ac6a59a42a70...|10063|  100600003| 9.858032E-5|\n",
      "|98ab8abaa35ae8a04...|10064|  100600002| 6.250833E-5|\n",
      "|7caf3a1ba9fafead6...|10064|  100600002|   0.9999019|\n",
      "|e4a12a1dab9adba86...|10064|  100600002|4.0553936E-5|\n",
      "|48a60a5fa70a31afe...|10071|  100620001|  0.99978375|\n",
      "|6ca00a6babea39aeb...|10071|  100620001| 4.010843E-4|\n",
      "|5ca51a81a5da4ea93...|10056|  100600004|   0.8443185|\n",
      "|9caf5a31a59a3fa9d...|10056|  100600004|  0.93987215|\n",
      "|48ac7a96a1ea20a57...|10056|  100600004|  0.99944687|\n",
      "|bca76a5eaeaa81a68...|10056|  100600004|   0.9990841|\n",
      "|0caa8aa7ae8a71aa0...|10059|  100600001|   0.9982196|\n",
      "|9ca5fa5aa01ad9acd...|10063|  100600003|3.6323116E-5|\n",
      "|cca2da83a99a55af0...|10064|  100600002|6.4855856E-5|\n",
      "|24ac0a00a0fa79ac6...|10113|  100600027|  0.04756596|\n",
      "|98a39a8ea18af4ad3...|10071|  100620001|2.5564746E-4|\n",
      "|a8ab8a6ea26afba62...|10071|  100620001|4.9570587E-4|\n",
      "|c8a38a70a2dac2a6b...|10056|  100600004|     0.78384|\n",
      "+--------------------+-----+-----------+------------+\n",
      "only showing top 20 rows\n",
      "\n"
     ]
    }
   ],
   "source": [
    "from pyspark.sql import SQLContext\n",
    "from pyspark.sql.types import FloatType\n",
    "from pyspark.sql.functions import udf\n",
    "# udf可以自定义函数操作每一个值，类似以前的map\n",
    "func = udf(lambda x: float(x[1]), FloatType())\n",
    "predictions = loaded_model.transform(test)\n",
    "# predictions.show()\n",
    "predictions = predictions.select(\"device_id\", \"ad_id\", \"ad_position\", col(\"event\").alias(\"label\"), \"features\", \"rawPrediction\", \"probability\", \"prediction\")\n",
    "predictions.show(10)\n",
    "predictions_json = predictions.withColumn(\"pvalue\", func(\"probability\"))\n",
    "predictions_json = predictions_json.drop(\"label\", \"features\", \"rawPrediction\", \"probability\", \"prediction\")\n",
    "predictions_json.show()"
   ]
  },
  {
   "cell_type": "code",
   "execution_count": 18,
   "metadata": {},
   "outputs": [
    {
     "name": "stdout",
     "output_type": "stream",
     "text": [
      "Test Area Under ROC 0.891296396186407\n",
      "耗时： 276.72425055503845 s\n"
     ]
    }
   ],
   "source": [
    "# 进行模型评估\n",
    "from pyspark.ml.evaluation import BinaryClassificationEvaluator\n",
    "evaluator = BinaryClassificationEvaluator() # 评估\n",
    "print('Test Area Under ROC', evaluator.evaluate(predictions))\n",
    "print(\"耗时：\", time.time() - start, \"s\")"
   ]
  },
  {
   "cell_type": "code",
   "execution_count": 19,
   "metadata": {},
   "outputs": [],
   "source": [
    "predictions_json.write.json('result.json', mode='overwrite')\n",
    "# predictions_json.rdd.saveAsTextFile('result_rdd.json')"
   ]
  }
 ],
 "metadata": {
  "kernelspec": {
   "display_name": "Python 3",
   "language": "python",
   "name": "python3"
  },
  "language_info": {
   "codemirror_mode": {
    "name": "ipython",
    "version": 3
   },
   "file_extension": ".py",
   "mimetype": "text/x-python",
   "name": "python",
   "nbconvert_exporter": "python",
   "pygments_lexer": "ipython3",
   "version": "3.7.7"
  }
 },
 "nbformat": 4,
 "nbformat_minor": 4
}
